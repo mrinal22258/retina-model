{
 "cells": [
  {
   "cell_type": "code",
   "execution_count": 1,
   "id": "90cf19a4-778e-441f-ad10-e5f83327b7b7",
   "metadata": {},
   "outputs": [],
   "source": [
    "import torch\n",
    "torch.cuda.empty_cache()\n",
    "import torch.nn as nn\n",
    "import torch.optim as optim\n",
    "import numpy as np\n",
    "import h5py\n",
    "import os\n",
    "from torch.utils.data import Dataset, DataLoader, random_split\n",
    "from tqdm import tqdm\n",
    "import matplotlib.pyplot as plt\n",
    "from torch.utils.tensorboard import SummaryWriter\n",
    "\n",
    "DEVICE = torch.device(\"cuda:0\" if torch.cuda.is_available() else \"cpu\")\n"
   ]
  },
  {
   "cell_type": "code",
   "execution_count": 2,
   "id": "90b263fc-df72-4d96-b102-3414d4d93fc2",
   "metadata": {},
   "outputs": [
    {
     "name": "stdout",
     "output_type": "stream",
     "text": [
      "True\n",
      "0\n",
      "NVIDIA GeForce RTX 3050 Laptop GPU\n"
     ]
    }
   ],
   "source": [
    "import torch\n",
    "print(torch.cuda.is_available())  # Should return True if CUDA is available\n",
    "print(torch.cuda.current_device())  # Should print the device index (e.g., 0)\n",
    "print(torch.cuda.get_device_name(0))  # S"
   ]
  },
  {
   "cell_type": "code",
   "execution_count": 3,
   "id": "6c94fffb-646b-4edd-a652-b8fc404bde78",
   "metadata": {},
   "outputs": [],
   "source": [
    "class GanglionCellDataset(Dataset):\n",
    "    def __init__(self, h5_file):\n",
    "        \n",
    "        self.h5_file = h5_file\n",
    "        with h5py.File(h5_file, 'r') as f:\n",
    "            self.stimuli = np.array(f['train/stimulus'])  # (359802, 50, 50)\n",
    "            self.responses = np.array(f['train/response/firing_rate_10ms'])  # (9, 359802)\n",
    "\n",
    "        # Reshape stimuli to (N, 1, H, W) for CNN\n",
    "        self.stimuli = self.stimuli[:, np.newaxis, :, :].astype(np.float32)  # (359802, 1, 50, 50)\n",
    "\n",
    "        # Transpose responses to match sample dimension\n",
    "        self.responses = self.responses.T.astype(np.float32)  # (359802, 9)\n",
    "\n",
    "    def __len__(self):\n",
    "        return len(self.stimuli)\n",
    "\n",
    "    def __getitem__(self, idx):\n",
    "        stimuli = torch.tensor(self.stimuli[idx], device=DEVICE)  # Move to device\n",
    "        responses = torch.tensor(self.responses[idx], device=DEVICE)  # Move to device\n",
    "        return stimuli, responses"
   ]
  },
  {
   "cell_type": "code",
   "execution_count": 4,
   "id": "d3d9df19-e136-4b34-87fb-4caa2137d2b6",
   "metadata": {},
   "outputs": [],
   "source": [
    "class GaussianNoise(nn.Module):\n",
    "    def __init__(self, std: float):\n",
    "        super(GaussianNoise, self).__init__()\n",
    "        self.std = std\n",
    "\n",
    "    def forward(self, x):\n",
    "        if self.training:  # Only apply noise during training\n",
    "            noise = torch.randn_like(x).to(x.device) * self.std  # Ensure noise is on the same device\n",
    "            return x + noise\n",
    "        return x\n",
    "\n",
    "class Flatten(nn.Module):\n",
    "    def __init__(self):\n",
    "        super(Flatten, self).__init__()\n",
    "\n",
    "    def forward(self, x):\n",
    "        return x.view(x.size(0), -1)  # Flatten the input tensor\n",
    "\n",
    "class Exponential(nn.Module):\n",
    "    def __init__(self, train_off=False):\n",
    "        super(Exponential, self).__init__()\n",
    "        self.train_off = train_off\n",
    "\n",
    "    def forward(self, x):\n",
    "        if self.train_off:\n",
    "            return torch.exp(x)  # Example: Exponential activation without training\n",
    "        else:\n",
    "            return torch.exp(x)  # Modify as needed based on the desired behavior"
   ]
  },
  {
   "cell_type": "code",
   "execution_count": 5,
   "id": "209cf0f2-8109-4ed7-8074-1cc338fff4ac",
   "metadata": {},
   "outputs": [],
   "source": [
    "class TDRModel(nn.Module):\n",
    "    \"\"\"\n",
    "    Base class for most models. Handles setting most of the member\n",
    "    variables that are shared for most model definitions.\n",
    "    \"\"\"\n",
    "    def __init__(self, n_units=5, noise=.05, bias=True, gc_bias=None,\n",
    "                 chans=[8,8], bn_moment=.01, softplus=True,\n",
    "                 inference_exp=False, img_shape=(40,50,50),\n",
    "                 ksizes=(15,11,11), recurrent=False, kinetic=False,\n",
    "                 convgc=False, centers=None, bnorm_d=1,\n",
    "                 activ_fxn='ReLU', **kwargs):\n",
    "        \"\"\"\n",
    "        Initializes common parameters for retinal models.\n",
    "        \"\"\"\n",
    "        super().__init__()\n",
    "        self.n_units = n_units\n",
    "        self.chans = chans\n",
    "        self.softplus = softplus\n",
    "        self.infr_exp = inference_exp\n",
    "        self.bias = bias\n",
    "        self.img_shape = img_shape\n",
    "        self.ksizes = ksizes\n",
    "        self.gc_bias = gc_bias\n",
    "        self.noise = noise\n",
    "        self.bn_moment = bn_moment\n",
    "        self.recurrent = recurrent\n",
    "        self.kinetic = kinetic\n",
    "        self.convgc = convgc\n",
    "        self.centers = centers\n",
    "        self.bnorm_d = bnorm_d\n",
    "        assert bnorm_d in [1, 2], \"Only 1D and 2D batchnorm are supported.\"\n",
    "        self.activ_fxn = activ_fxn\n",
    "\n",
    "    def forward(self, x):\n",
    "        \"\"\"\n",
    "        This function should be implemented in child classes.\n",
    "        \"\"\"\n",
    "        raise NotImplementedError(\"Forward function must be implemented in child class.\")\n",
    "\n",
    "    def update_shape(self, shape, kernel_size):\n",
    "        \"\"\"\n",
    "        Helper function to update spatial dimensions after convolution.\n",
    "\n",
    "        Parameters:\n",
    "        - shape: tuple (height, width)\n",
    "        - kernel_size: int or tuple\n",
    "\n",
    "        Returns:\n",
    "        - New shape after convolution\n",
    "        \"\"\"\n",
    "        if isinstance(kernel_size, int):\n",
    "            kernel_size = (kernel_size, kernel_size)\n",
    "        h_out = shape[0] - kernel_size[0] + 1\n",
    "        w_out = shape[1] - kernel_size[1] + 1\n",
    "        return (h_out, w_out)\n",
    "\n",
    "    def extra_repr(self):\n",
    "        \"\"\"\n",
    "        This function is used in model printing. Shows model parameters.\n",
    "        \"\"\"\n",
    "        s = ['n_units={}', 'noise={}', 'bias={}', 'gc_bias={}',\n",
    "             'chans={}', 'bn_moment={}', 'softplus={}',\n",
    "             'inference_exp={}', 'img_shape={}', 'ksizes={}']\n",
    "        return \", \".join(s).format(self.n_units, self.noise, self.bias,\n",
    "                                   self.gc_bias, self.chans,\n",
    "                                   self.bn_moment, self.softplus,\n",
    "                                   self.infr_exp, self.img_shape, self.ksizes)\n",
    "\n",
    "    def requires_grad(self, state: bool):\n",
    "        \"\"\"\n",
    "        Enables or disables gradient calculations.\n",
    "\n",
    "        Parameters:\n",
    "        - state (bool): True to enable gradients, False to disable.\n",
    "        \"\"\"\n",
    "        for p in self.parameters():\n",
    "            p.requires_grad = state"
   ]
  },
  {
   "cell_type": "code",
   "execution_count": 6,
   "id": "8e11c3a7-6886-4db6-94f6-27c8c36919a3",
   "metadata": {},
   "outputs": [],
   "source": [
    "# Exact BNCNN Model\n",
    "class BNCNN(TDRModel):\n",
    "    \"\"\"\n",
    "    BatchNorm CNN for predicting ganglion cell responses.\n",
    "    \"\"\"\n",
    "\n",
    "    def __init__(self, gauss_prior=0, **kwargs):\n",
    "        super().__init__(**kwargs)\n",
    "        self.name = 'McNiruNet'\n",
    "        self.gauss_prior = gauss_prior\n",
    "        modules = []\n",
    "        self.shapes = []\n",
    "        shape = self.img_shape[1:]\n",
    "\n",
    "        modules.append(nn.Conv2d(self.img_shape[0], self.chans[0], kernel_size=self.ksizes[0], bias=self.bias))\n",
    "        shape = self.update_shape(shape, self.ksizes[0])\n",
    "        self.shapes.append(tuple(shape))\n",
    "\n",
    "        if self.bnorm_d == 1:\n",
    "            modules.append(Flatten())\n",
    "            size = self.chans[0] * shape[0] * shape[1]\n",
    "            modules.append(nn.BatchNorm1d(size, eps=1e-3, momentum=self.bn_moment))\n",
    "            modules.append(Reshape((-1, self.chans[0], *shape)))\n",
    "        else:\n",
    "            modules.append(nn.BatchNorm2d(self.chans[0], eps=1e-3, momentum=self.bn_moment))\n",
    "\n",
    "        modules.append(GaussianNoise(std=self.noise))\n",
    "        modules.append(getattr(nn, self.activ_fxn)())\n",
    "\n",
    "        modules.append(nn.Conv2d(self.chans[0], self.chans[1], kernel_size=self.ksizes[1], bias=self.bias))\n",
    "        shape = self.update_shape(shape, self.ksizes[1])\n",
    "        self.shapes.append(tuple(shape))\n",
    "\n",
    "        if self.bnorm_d == 1:\n",
    "            modules.append(Flatten())\n",
    "            size = self.chans[1] * shape[0] * shape[1]\n",
    "            modules.append(nn.BatchNorm1d(size, eps=1e-3, momentum=self.bn_moment))\n",
    "            modules.append(Reshape((-1, self.chans[1], shape[0], shape[1])))\n",
    "        else:\n",
    "            modules.append(nn.BatchNorm2d(self.chans[1], eps=1e-3, momentum=self.bn_moment))\n",
    "\n",
    "        modules.append(GaussianNoise(std=self.noise))\n",
    "        modules.append(getattr(nn, self.activ_fxn)())\n",
    "\n",
    "        if self.convgc:\n",
    "            modules.append(nn.Conv2d(self.chans[1], self.n_units, kernel_size=self.ksizes[2], bias=self.gc_bias))\n",
    "            shape = self.update_shape(shape, self.ksizes[2])\n",
    "            self.shapes.append(tuple(shape))\n",
    "            modules.append(GrabUnits(self.centers, self.ksizes, self.img_shape))\n",
    "        else:\n",
    "            modules.append(Flatten())\n",
    "            size = self.chans[1] * shape[0] * shape[1]\n",
    "            modules.append(nn.Linear(size, self.n_units, bias=self.gc_bias))\n",
    "\n",
    "        modules.append(nn.BatchNorm1d(self.n_units, eps=1e-3, momentum=self.bn_moment))\n",
    "\n",
    "        if self.softplus:\n",
    "            modules.append(nn.Softplus())\n",
    "        else:\n",
    "            modules.append(Exponential(train_off=True))\n",
    "\n",
    "        self.sequential = nn.Sequential(*modules)\n",
    "\n",
    "        if self.gauss_prior > 0:\n",
    "            for i, seq_idx in enumerate([0, 6]):\n",
    "                weight = self.sequential[seq_idx].weight\n",
    "                filters = []\n",
    "                for out_i in range(weight.shape[0]):\n",
    "                    kernels = []\n",
    "                    for in_i in range(weight.shape[1]):\n",
    "                        prior_x = signal.gaussian(weight.shape[-1], std=self.gauss_prior)\n",
    "                        prior_y = signal.gaussian(weight.shape[-2], std=self.gauss_prior)\n",
    "                        prior = np.outer(prior_y, prior_x)\n",
    "                        kernels.append(prior)\n",
    "                    filters.append(np.asarray(kernels))\n",
    "                prior = np.asarray(filters)\n",
    "                denom = np.sqrt(weight.shape[0] + weight.shape[1])\n",
    "                prior = prior / np.max(prior) / denom\n",
    "                prior = torch.FloatTensor(prior)\n",
    "                self.sequential[seq_idx].weight.data = prior\n",
    "\n",
    "    def forward(self, x):\n",
    "        if not self.training and self.infr_exp:\n",
    "            return torch.exp(self.sequential(x))\n",
    "        return self.sequential(x)"
   ]
  },
  {
   "cell_type": "code",
   "execution_count": 7,
   "id": "b40a60c9-02be-44d8-9a9e-80cc9abd5f45",
   "metadata": {},
   "outputs": [],
   "source": [
    "def train_model(h5_file, hyperparams, batch_size=32, lr=0.001, epochs=100, val_split=0.1):\n",
    "    dataset = GanglionCellDataset(h5_file)\n",
    "\n",
    "    # Split dataset into training and validation\n",
    "    train_size = int((1 - val_split) * len(dataset))\n",
    "    val_size = len(dataset) - train_size\n",
    "    train_dataset, val_dataset = random_split(dataset, [train_size, val_size])\n",
    "\n",
    "    train_loader = DataLoader(train_dataset, batch_size=batch_size, shuffle=True)\n",
    "    val_loader = DataLoader(val_dataset, batch_size=batch_size, shuffle=False)\n",
    "\n",
    "    model = BNCNN(**hyperparams).to(DEVICE)\n",
    "    loss_fn = nn.MSELoss()\n",
    "    optimizer = optim.Adam(model.parameters(), lr=lr)\n",
    "\n",
    "    writer = SummaryWriter(log_dir=\"runs/bncnn_experiment\")\n",
    "\n",
    "    loss_history, accuracy_history = [], []\n",
    "    val_loss_history, val_accuracy_history = [], []\n",
    "\n",
    "    all_predictions, all_targets = [], []\n",
    "\n",
    "    for epoch in range(epochs):\n",
    "        # Training\n",
    "        model.train()\n",
    "        train_loss, train_acc, train_count = 0, 0, 0\n",
    "\n",
    "        for stimuli, firing_rate in tqdm(train_loader, desc=f\"Epoch {epoch+1}/{epochs}\"):\n",
    "            stimuli, firing_rate = stimuli.to(DEVICE), firing_rate.to(DEVICE)\n",
    "\n",
    "            optimizer.zero_grad()\n",
    "            predictions = model(stimuli)\n",
    "            loss = loss_fn(predictions, firing_rate)\n",
    "            loss.backward()\n",
    "            optimizer.step()\n",
    "\n",
    "            train_loss += loss.item()\n",
    "\n",
    "            pred_np = predictions.detach().cpu().numpy().flatten()\n",
    "            target_np = firing_rate.detach().cpu().numpy().flatten()\n",
    "\n",
    "            if np.std(pred_np) > 0 and np.std(target_np) > 0:\n",
    "                correlation = np.corrcoef(pred_np, target_np)[0, 1]\n",
    "            else:\n",
    "                correlation = 0\n",
    "\n",
    "            train_acc += correlation\n",
    "            train_count += 1\n",
    "\n",
    "            # Store predictions and actual values\n",
    "            if len(all_predictions) < 10000:\n",
    "                all_predictions.extend(pred_np)\n",
    "                all_targets.extend(target_np)\n",
    "\n",
    "        avg_train_loss = train_loss / len(train_loader)\n",
    "        avg_train_acc = train_acc / train_count if train_count > 0 else 0\n",
    "\n",
    "        loss_history.append(avg_train_loss)\n",
    "        accuracy_history.append(avg_train_acc)\n",
    "\n",
    "        writer.add_scalar(\"Loss/train\", avg_train_loss, epoch)\n",
    "        writer.add_scalar(\"Accuracy/train\", avg_train_acc, epoch)\n",
    "\n",
    "        # Validation\n",
    "        model.eval()\n",
    "        val_loss, val_acc, val_count = 0, 0, 0\n",
    "        with torch.no_grad():\n",
    "            for stimuli, firing_rate in val_loader:\n",
    "                stimuli, firing_rate = stimuli.to(DEVICE), firing_rate.to(DEVICE)\n",
    "                predictions = model(stimuli)\n",
    "\n",
    "                loss = loss_fn(predictions, firing_rate)\n",
    "                val_loss += loss.item()\n",
    "\n",
    "                pred_np = predictions.cpu().numpy().flatten()\n",
    "                target_np = firing_rate.cpu().numpy().flatten()\n",
    "\n",
    "                if np.std(pred_np) > 0 and np.std(target_np) > 0:\n",
    "                    correlation = np.corrcoef(pred_np, target_np)[0, 1]\n",
    "                else:\n",
    "                    correlation = 0\n",
    "\n",
    "                val_acc += correlation\n",
    "                val_count += 1\n",
    "\n",
    "        avg_val_loss = val_loss / len(val_loader)\n",
    "        avg_val_acc = val_acc / val_count if val_count > 0 else 0\n",
    "\n",
    "        val_loss_history.append(avg_val_loss)\n",
    "        val_accuracy_history.append(avg_val_acc)\n",
    "\n",
    "        writer.add_scalar(\"Loss/val\", avg_val_loss, epoch)\n",
    "        writer.add_scalar(\"Accuracy/val\", avg_val_acc, epoch)\n",
    "\n",
    "        print(f\"Epoch {epoch+1}/{epochs}, Train Loss: {avg_train_loss:.6f}, Train Acc: {avg_train_acc:.4f}, \"\n",
    "              f\"Val Loss: {avg_val_loss:.6f}, Val Acc: {avg_val_acc:.4f}\")\n",
    "\n",
    "    # Save Model\n",
    "    save_path = \"bncnn_model.pth\"\n",
    "    torch.save(model.state_dict(), save_path)\n",
    "    print(f\"Model saved to {save_path}\")\n",
    "\n",
    "    # # Plot Loss Curves\n",
    "    # plt.figure(figsize=(10, 4))\n",
    "    # plt.plot(range(1, epochs + 1), loss_history, marker='o', linestyle='-', color='b', label='Train Loss')\n",
    "    # plt.plot(range(1, epochs + 1), val_loss_history, marker='s', linestyle='-', color='r', label='Val Loss')\n",
    "    # plt.xlabel('Epochs')\n",
    "    # plt.ylabel('MSE Loss')\n",
    "    # plt.title('Training and Validation Loss Curve')\n",
    "    # plt.legend()\n",
    "    # plt.grid()\n",
    "    # plt.show()\n",
    "\n",
    "    # Plot Training Loss\n",
    "    plt.figure(figsize=(10, 4))\n",
    "    plt.plot(range(1, epochs + 1), loss_history, marker='o', linestyle='-', color='b', label='Train Loss')\n",
    "    plt.xlabel('Epochs')\n",
    "    plt.ylabel('MSE Loss')\n",
    "    plt.title('Training Loss Curve')\n",
    "    plt.legend()\n",
    "    plt.grid()\n",
    "    plt.show()\n",
    "    \n",
    "    # Plot Validation Loss\n",
    "    plt.figure(figsize=(10, 4))\n",
    "    plt.plot(range(1, epochs + 1), val_loss_history, marker='s', linestyle='-', color='r', label='Val Loss')\n",
    "    plt.xlabel('Epochs')\n",
    "    plt.ylabel('MSE Loss')\n",
    "    plt.title('Validation Loss Curve')\n",
    "    plt.legend()\n",
    "    plt.grid()\n",
    "    plt.show()\n",
    "\n",
    "    # Plot Accuracy Curves\n",
    "    plt.figure(figsize=(10, 4))\n",
    "    plt.plot(range(1, epochs + 1), accuracy_history, marker='o', linestyle='-', color='g', label='Train Accuracy')\n",
    "    plt.plot(range(1, epochs + 1), val_accuracy_history, marker='s', linestyle='-', color='m', label='Val Accuracy')\n",
    "    plt.xlabel('Epochs')\n",
    "    plt.ylabel('Pearson Correlation')\n",
    "    plt.title('Training and Validation Accuracy Curve')\n",
    "    plt.legend()\n",
    "    plt.grid()\n",
    "    plt.show()\n",
    "\n",
    "    # Plot Predicted vs Real Values\n",
    "    plt.figure(figsize=(6, 6))\n",
    "    plt.scatter(all_targets, all_predictions, alpha=0.5, color='r')\n",
    "    plt.plot([-1, 1], [-1, 1], linestyle='--', color='black')  # Reference line (y=x)\n",
    "    plt.xlabel('Actual Firing Rate')\n",
    "    plt.ylabel('Predicted Firing Rate')\n",
    "    plt.title('Predicted vs Actual Values')\n",
    "    plt.grid()\n",
    "    plt.show()\n",
    "\n",
    "    # Print Final Summary\n",
    "    print(f\"Final Training Loss: {loss_history[-1]:.6f}\")\n",
    "    print(f\"Final Training Accuracy: {accuracy_history[-1]:.4f}\")\n",
    "    print(f\"Final Validation Loss: {val_loss_history[-1]:.6f}\")\n",
    "    print(f\"Final Validation Accuracy: {val_accuracy_history[-1]:.4f}\")\n",
    "    print(f\"Size of final prediction array: {len(all_predictions)}\")\n",
    "    print(f\"Size of final actual array: {len(all_targets)}\")"
   ]
  },
  {
   "cell_type": "code",
   "execution_count": 8,
   "id": "2e1c9d92-613c-44b7-a831-83742c6ff6c5",
   "metadata": {},
   "outputs": [
    {
     "name": "stderr",
     "output_type": "stream",
     "text": [
      "Epoch 1/100: 100%|██████████| 10120/10120 [04:10<00:00, 40.34it/s]\n"
     ]
    },
    {
     "name": "stdout",
     "output_type": "stream",
     "text": [
      "Epoch 1/100, Train Loss: 101.570722, Train Acc: 0.1601, Val Loss: 101.695248, Val Acc: 0.1922\n"
     ]
    },
    {
     "name": "stderr",
     "output_type": "stream",
     "text": [
      "Epoch 2/100: 100%|██████████| 10120/10120 [03:25<00:00, 49.19it/s]\n"
     ]
    },
    {
     "name": "stdout",
     "output_type": "stream",
     "text": [
      "Epoch 2/100, Train Loss: 99.809207, Train Acc: 0.2039, Val Loss: 101.148494, Val Acc: 0.2062\n"
     ]
    },
    {
     "name": "stderr",
     "output_type": "stream",
     "text": [
      "Epoch 3/100: 100%|██████████| 10120/10120 [13:18<00:00, 12.67it/s]  \n"
     ]
    },
    {
     "name": "stdout",
     "output_type": "stream",
     "text": [
      "Epoch 3/100, Train Loss: 98.193556, Train Acc: 0.2381, Val Loss: 106.583293, Val Acc: 0.2346\n"
     ]
    },
    {
     "name": "stderr",
     "output_type": "stream",
     "text": [
      "Epoch 4/100: 100%|██████████| 10120/10120 [30:52<00:00,  5.46it/s]   \n"
     ]
    },
    {
     "name": "stdout",
     "output_type": "stream",
     "text": [
      "Epoch 4/100, Train Loss: 96.103362, Train Acc: 0.2743, Val Loss: 126.715470, Val Acc: 0.2507\n"
     ]
    },
    {
     "name": "stderr",
     "output_type": "stream",
     "text": [
      "Epoch 5/100: 100%|██████████| 10120/10120 [04:36<00:00, 36.61it/s]\n"
     ]
    },
    {
     "name": "stdout",
     "output_type": "stream",
     "text": [
      "Epoch 5/100, Train Loss: 93.902564, Train Acc: 0.3098, Val Loss: 108.950406, Val Acc: 0.2713\n"
     ]
    },
    {
     "name": "stderr",
     "output_type": "stream",
     "text": [
      "Epoch 6/100: 100%|██████████| 10120/10120 [02:59<00:00, 56.23it/s]\n"
     ]
    },
    {
     "name": "stdout",
     "output_type": "stream",
     "text": [
      "Epoch 6/100, Train Loss: 92.248650, Train Acc: 0.3328, Val Loss: 130.389281, Val Acc: 0.2791\n"
     ]
    },
    {
     "name": "stderr",
     "output_type": "stream",
     "text": [
      "Epoch 7/100: 100%|██████████| 10120/10120 [03:17<00:00, 51.24it/s]\n"
     ]
    },
    {
     "name": "stdout",
     "output_type": "stream",
     "text": [
      "Epoch 7/100, Train Loss: 90.934866, Train Acc: 0.3521, Val Loss: 202.019127, Val Acc: 0.2779\n"
     ]
    },
    {
     "name": "stderr",
     "output_type": "stream",
     "text": [
      "Epoch 8/100: 100%|██████████| 10120/10120 [02:58<00:00, 56.54it/s]\n"
     ]
    },
    {
     "name": "stdout",
     "output_type": "stream",
     "text": [
      "Epoch 8/100, Train Loss: 89.840244, Train Acc: 0.3654, Val Loss: 339.437952, Val Acc: 0.2965\n"
     ]
    },
    {
     "name": "stderr",
     "output_type": "stream",
     "text": [
      "Epoch 9/100: 100%|██████████| 10120/10120 [02:31<00:00, 66.92it/s]\n"
     ]
    },
    {
     "name": "stdout",
     "output_type": "stream",
     "text": [
      "Epoch 9/100, Train Loss: 88.917635, Train Acc: 0.3770, Val Loss: 395.652725, Val Acc: 0.2940\n"
     ]
    },
    {
     "name": "stderr",
     "output_type": "stream",
     "text": [
      "Epoch 10/100: 100%|██████████| 10120/10120 [03:25<00:00, 49.24it/s]\n"
     ]
    },
    {
     "name": "stdout",
     "output_type": "stream",
     "text": [
      "Epoch 10/100, Train Loss: 88.062702, Train Acc: 0.3885, Val Loss: 498.351297, Val Acc: 0.3053\n"
     ]
    },
    {
     "name": "stderr",
     "output_type": "stream",
     "text": [
      "Epoch 11/100: 100%|██████████| 10120/10120 [02:37<00:00, 64.14it/s]\n"
     ]
    },
    {
     "name": "stdout",
     "output_type": "stream",
     "text": [
      "Epoch 11/100, Train Loss: 87.324595, Train Acc: 0.3973, Val Loss: 203.197359, Val Acc: 0.3098\n"
     ]
    },
    {
     "name": "stderr",
     "output_type": "stream",
     "text": [
      "Epoch 12/100: 100%|██████████| 10120/10120 [02:20<00:00, 72.12it/s]\n"
     ]
    },
    {
     "name": "stdout",
     "output_type": "stream",
     "text": [
      "Epoch 12/100, Train Loss: 86.754231, Train Acc: 0.4034, Val Loss: 440.202673, Val Acc: 0.3127\n"
     ]
    },
    {
     "name": "stderr",
     "output_type": "stream",
     "text": [
      "Epoch 13/100: 100%|██████████| 10120/10120 [02:16<00:00, 73.96it/s]\n"
     ]
    },
    {
     "name": "stdout",
     "output_type": "stream",
     "text": [
      "Epoch 13/100, Train Loss: 86.303757, Train Acc: 0.4100, Val Loss: 208.675844, Val Acc: 0.3246\n"
     ]
    },
    {
     "name": "stderr",
     "output_type": "stream",
     "text": [
      "Epoch 14/100: 100%|██████████| 10120/10120 [02:29<00:00, 67.78it/s]\n"
     ]
    },
    {
     "name": "stdout",
     "output_type": "stream",
     "text": [
      "Epoch 14/100, Train Loss: 85.733129, Train Acc: 0.4170, Val Loss: 225.981567, Val Acc: 0.3257\n"
     ]
    },
    {
     "name": "stderr",
     "output_type": "stream",
     "text": [
      "Epoch 15/100: 100%|██████████| 10120/10120 [02:18<00:00, 72.85it/s]\n"
     ]
    },
    {
     "name": "stdout",
     "output_type": "stream",
     "text": [
      "Epoch 15/100, Train Loss: 85.308833, Train Acc: 0.4217, Val Loss: 327.320299, Val Acc: 0.3310\n"
     ]
    },
    {
     "name": "stderr",
     "output_type": "stream",
     "text": [
      "Epoch 16/100: 100%|██████████| 10120/10120 [02:17<00:00, 73.59it/s]\n"
     ]
    },
    {
     "name": "stdout",
     "output_type": "stream",
     "text": [
      "Epoch 16/100, Train Loss: 84.808182, Train Acc: 0.4284, Val Loss: 600.525955, Val Acc: 0.3299\n"
     ]
    },
    {
     "name": "stderr",
     "output_type": "stream",
     "text": [
      "Epoch 17/100: 100%|██████████| 10120/10120 [02:14<00:00, 75.20it/s]\n"
     ]
    },
    {
     "name": "stdout",
     "output_type": "stream",
     "text": [
      "Epoch 17/100, Train Loss: 84.527304, Train Acc: 0.4306, Val Loss: 867.200280, Val Acc: 0.3371\n"
     ]
    },
    {
     "name": "stderr",
     "output_type": "stream",
     "text": [
      "Epoch 18/100: 100%|██████████| 10120/10120 [02:15<00:00, 74.47it/s]\n"
     ]
    },
    {
     "name": "stdout",
     "output_type": "stream",
     "text": [
      "Epoch 18/100, Train Loss: 84.092332, Train Acc: 0.4373, Val Loss: 468.614241, Val Acc: 0.3359\n"
     ]
    },
    {
     "name": "stderr",
     "output_type": "stream",
     "text": [
      "Epoch 19/100: 100%|██████████| 10120/10120 [02:27<00:00, 68.47it/s]\n"
     ]
    },
    {
     "name": "stdout",
     "output_type": "stream",
     "text": [
      "Epoch 19/100, Train Loss: 83.772937, Train Acc: 0.4408, Val Loss: 636.316563, Val Acc: 0.3340\n"
     ]
    },
    {
     "name": "stderr",
     "output_type": "stream",
     "text": [
      "Epoch 20/100: 100%|██████████| 10120/10120 [02:37<00:00, 64.13it/s]\n"
     ]
    },
    {
     "name": "stdout",
     "output_type": "stream",
     "text": [
      "Epoch 20/100, Train Loss: 83.394695, Train Acc: 0.4436, Val Loss: 913.572229, Val Acc: 0.3400\n"
     ]
    },
    {
     "name": "stderr",
     "output_type": "stream",
     "text": [
      "Epoch 21/100: 100%|██████████| 10120/10120 [02:36<00:00, 64.83it/s]\n"
     ]
    },
    {
     "name": "stdout",
     "output_type": "stream",
     "text": [
      "Epoch 21/100, Train Loss: 83.123388, Train Acc: 0.4462, Val Loss: 552.132674, Val Acc: 0.3427\n"
     ]
    },
    {
     "name": "stderr",
     "output_type": "stream",
     "text": [
      "Epoch 22/100: 100%|██████████| 10120/10120 [02:55<00:00, 57.56it/s]\n"
     ]
    },
    {
     "name": "stdout",
     "output_type": "stream",
     "text": [
      "Epoch 22/100, Train Loss: 82.900724, Train Acc: 0.4499, Val Loss: 729.929660, Val Acc: 0.3371\n"
     ]
    },
    {
     "name": "stderr",
     "output_type": "stream",
     "text": [
      "Epoch 23/100: 100%|██████████| 10120/10120 [02:14<00:00, 75.02it/s]\n"
     ]
    },
    {
     "name": "stdout",
     "output_type": "stream",
     "text": [
      "Epoch 23/100, Train Loss: 82.647988, Train Acc: 0.4511, Val Loss: 631.130974, Val Acc: 0.3446\n"
     ]
    },
    {
     "name": "stderr",
     "output_type": "stream",
     "text": [
      "Epoch 24/100: 100%|██████████| 10120/10120 [02:11<00:00, 76.83it/s]\n"
     ]
    },
    {
     "name": "stdout",
     "output_type": "stream",
     "text": [
      "Epoch 24/100, Train Loss: 82.418854, Train Acc: 0.4548, Val Loss: 474.146152, Val Acc: 0.3470\n"
     ]
    },
    {
     "name": "stderr",
     "output_type": "stream",
     "text": [
      "Epoch 25/100: 100%|██████████| 10120/10120 [02:11<00:00, 77.20it/s]\n"
     ]
    },
    {
     "name": "stdout",
     "output_type": "stream",
     "text": [
      "Epoch 25/100, Train Loss: 82.271890, Train Acc: 0.4572, Val Loss: 265.935947, Val Acc: 0.3522\n"
     ]
    },
    {
     "name": "stderr",
     "output_type": "stream",
     "text": [
      "Epoch 26/100: 100%|██████████| 10120/10120 [02:19<00:00, 72.64it/s]\n"
     ]
    },
    {
     "name": "stdout",
     "output_type": "stream",
     "text": [
      "Epoch 26/100, Train Loss: 81.893448, Train Acc: 0.4610, Val Loss: 360.110772, Val Acc: 0.3552\n"
     ]
    },
    {
     "name": "stderr",
     "output_type": "stream",
     "text": [
      "Epoch 27/100: 100%|██████████| 10120/10120 [02:21<00:00, 71.54it/s]\n"
     ]
    },
    {
     "name": "stdout",
     "output_type": "stream",
     "text": [
      "Epoch 27/100, Train Loss: 81.933929, Train Acc: 0.4609, Val Loss: 3662.677087, Val Acc: 0.3366\n"
     ]
    },
    {
     "name": "stderr",
     "output_type": "stream",
     "text": [
      "Epoch 28/100: 100%|██████████| 10120/10120 [02:13<00:00, 75.86it/s]\n"
     ]
    },
    {
     "name": "stdout",
     "output_type": "stream",
     "text": [
      "Epoch 28/100, Train Loss: 81.610706, Train Acc: 0.4646, Val Loss: 707.983651, Val Acc: 0.3551\n"
     ]
    },
    {
     "name": "stderr",
     "output_type": "stream",
     "text": [
      "Epoch 29/100: 100%|██████████| 10120/10120 [02:13<00:00, 75.79it/s]\n"
     ]
    },
    {
     "name": "stdout",
     "output_type": "stream",
     "text": [
      "Epoch 29/100, Train Loss: 81.439774, Train Acc: 0.4672, Val Loss: 1327.577588, Val Acc: 0.3486\n"
     ]
    },
    {
     "name": "stderr",
     "output_type": "stream",
     "text": [
      "Epoch 30/100: 100%|██████████| 10120/10120 [02:11<00:00, 77.19it/s]\n"
     ]
    },
    {
     "name": "stdout",
     "output_type": "stream",
     "text": [
      "Epoch 30/100, Train Loss: 81.165088, Train Acc: 0.4691, Val Loss: 670.197107, Val Acc: 0.3599\n"
     ]
    },
    {
     "name": "stderr",
     "output_type": "stream",
     "text": [
      "Epoch 31/100: 100%|██████████| 10120/10120 [02:10<00:00, 77.75it/s]\n"
     ]
    },
    {
     "name": "stdout",
     "output_type": "stream",
     "text": [
      "Epoch 31/100, Train Loss: 80.984993, Train Acc: 0.4704, Val Loss: 6623.855258, Val Acc: 0.3455\n"
     ]
    },
    {
     "name": "stderr",
     "output_type": "stream",
     "text": [
      "Epoch 32/100: 100%|██████████| 10120/10120 [02:10<00:00, 77.83it/s]\n"
     ]
    },
    {
     "name": "stdout",
     "output_type": "stream",
     "text": [
      "Epoch 32/100, Train Loss: 80.925525, Train Acc: 0.4726, Val Loss: 633.023269, Val Acc: 0.3669\n"
     ]
    },
    {
     "name": "stderr",
     "output_type": "stream",
     "text": [
      "Epoch 33/100: 100%|██████████| 10120/10120 [02:09<00:00, 78.13it/s]\n"
     ]
    },
    {
     "name": "stdout",
     "output_type": "stream",
     "text": [
      "Epoch 33/100, Train Loss: 80.815788, Train Acc: 0.4727, Val Loss: 1233.566477, Val Acc: 0.3628\n"
     ]
    },
    {
     "name": "stderr",
     "output_type": "stream",
     "text": [
      "Epoch 34/100: 100%|██████████| 10120/10120 [02:10<00:00, 77.36it/s]\n"
     ]
    },
    {
     "name": "stdout",
     "output_type": "stream",
     "text": [
      "Epoch 34/100, Train Loss: 80.633324, Train Acc: 0.4751, Val Loss: 1066.917700, Val Acc: 0.3534\n"
     ]
    },
    {
     "name": "stderr",
     "output_type": "stream",
     "text": [
      "Epoch 35/100: 100%|██████████| 10120/10120 [02:11<00:00, 77.21it/s]\n"
     ]
    },
    {
     "name": "stdout",
     "output_type": "stream",
     "text": [
      "Epoch 35/100, Train Loss: 80.526015, Train Acc: 0.4758, Val Loss: 618.642296, Val Acc: 0.3637\n"
     ]
    },
    {
     "name": "stderr",
     "output_type": "stream",
     "text": [
      "Epoch 36/100: 100%|██████████| 10120/10120 [02:10<00:00, 77.70it/s]\n"
     ]
    },
    {
     "name": "stdout",
     "output_type": "stream",
     "text": [
      "Epoch 36/100, Train Loss: 80.323941, Train Acc: 0.4783, Val Loss: 1651.522671, Val Acc: 0.3582\n"
     ]
    },
    {
     "name": "stderr",
     "output_type": "stream",
     "text": [
      "Epoch 37/100: 100%|██████████| 10120/10120 [02:08<00:00, 78.62it/s]\n"
     ]
    },
    {
     "name": "stdout",
     "output_type": "stream",
     "text": [
      "Epoch 37/100, Train Loss: 80.196827, Train Acc: 0.4806, Val Loss: 1063.483848, Val Acc: 0.3626\n"
     ]
    },
    {
     "name": "stderr",
     "output_type": "stream",
     "text": [
      "Epoch 38/100: 100%|██████████| 10120/10120 [02:26<00:00, 69.17it/s]\n"
     ]
    },
    {
     "name": "stdout",
     "output_type": "stream",
     "text": [
      "Epoch 38/100, Train Loss: 80.062996, Train Acc: 0.4814, Val Loss: 4680.207459, Val Acc: 0.3541\n"
     ]
    },
    {
     "name": "stderr",
     "output_type": "stream",
     "text": [
      "Epoch 39/100: 100%|██████████| 10120/10120 [02:16<00:00, 73.93it/s]\n"
     ]
    },
    {
     "name": "stdout",
     "output_type": "stream",
     "text": [
      "Epoch 39/100, Train Loss: 80.110563, Train Acc: 0.4820, Val Loss: 5171.182505, Val Acc: 0.3594\n"
     ]
    },
    {
     "name": "stderr",
     "output_type": "stream",
     "text": [
      "Epoch 40/100: 100%|██████████| 10120/10120 [02:32<00:00, 66.34it/s]\n"
     ]
    },
    {
     "name": "stdout",
     "output_type": "stream",
     "text": [
      "Epoch 40/100, Train Loss: 79.888297, Train Acc: 0.4827, Val Loss: 398.183693, Val Acc: 0.3680\n"
     ]
    },
    {
     "name": "stderr",
     "output_type": "stream",
     "text": [
      "Epoch 41/100: 100%|██████████| 10120/10120 [03:07<00:00, 54.08it/s]\n"
     ]
    },
    {
     "name": "stdout",
     "output_type": "stream",
     "text": [
      "Epoch 41/100, Train Loss: 79.735445, Train Acc: 0.4850, Val Loss: 291.200448, Val Acc: 0.3746\n"
     ]
    },
    {
     "name": "stderr",
     "output_type": "stream",
     "text": [
      "Epoch 42/100: 100%|██████████| 10120/10120 [02:15<00:00, 74.51it/s]\n"
     ]
    },
    {
     "name": "stdout",
     "output_type": "stream",
     "text": [
      "Epoch 42/100, Train Loss: 79.738847, Train Acc: 0.4861, Val Loss: 657.489614, Val Acc: 0.3662\n"
     ]
    },
    {
     "name": "stderr",
     "output_type": "stream",
     "text": [
      "Epoch 43/100: 100%|██████████| 10120/10120 [02:12<00:00, 76.51it/s]\n"
     ]
    },
    {
     "name": "stdout",
     "output_type": "stream",
     "text": [
      "Epoch 43/100, Train Loss: 79.704820, Train Acc: 0.4862, Val Loss: 664.086720, Val Acc: 0.3740\n"
     ]
    },
    {
     "name": "stderr",
     "output_type": "stream",
     "text": [
      "Epoch 44/100: 100%|██████████| 10120/10120 [02:13<00:00, 75.97it/s]\n"
     ]
    },
    {
     "name": "stdout",
     "output_type": "stream",
     "text": [
      "Epoch 44/100, Train Loss: 79.492730, Train Acc: 0.4883, Val Loss: 3270.488048, Val Acc: 0.3667\n"
     ]
    },
    {
     "name": "stderr",
     "output_type": "stream",
     "text": [
      "Epoch 45/100: 100%|██████████| 10120/10120 [02:09<00:00, 77.86it/s]\n"
     ]
    },
    {
     "name": "stdout",
     "output_type": "stream",
     "text": [
      "Epoch 45/100, Train Loss: 79.415202, Train Acc: 0.4888, Val Loss: 1182.070307, Val Acc: 0.3629\n"
     ]
    },
    {
     "name": "stderr",
     "output_type": "stream",
     "text": [
      "Epoch 46/100: 100%|██████████| 10120/10120 [02:10<00:00, 77.32it/s]\n"
     ]
    },
    {
     "name": "stdout",
     "output_type": "stream",
     "text": [
      "Epoch 46/100, Train Loss: 79.398215, Train Acc: 0.4900, Val Loss: 4026.451163, Val Acc: 0.3716\n"
     ]
    },
    {
     "name": "stderr",
     "output_type": "stream",
     "text": [
      "Epoch 47/100: 100%|██████████| 10120/10120 [02:33<00:00, 65.90it/s]\n"
     ]
    },
    {
     "name": "stdout",
     "output_type": "stream",
     "text": [
      "Epoch 47/100, Train Loss: 79.257874, Train Acc: 0.4902, Val Loss: 1472.846743, Val Acc: 0.3765\n"
     ]
    },
    {
     "name": "stderr",
     "output_type": "stream",
     "text": [
      "Epoch 48/100: 100%|██████████| 10120/10120 [02:18<00:00, 72.86it/s]\n"
     ]
    },
    {
     "name": "stdout",
     "output_type": "stream",
     "text": [
      "Epoch 48/100, Train Loss: 79.155827, Train Acc: 0.4920, Val Loss: 541.566689, Val Acc: 0.3755\n"
     ]
    },
    {
     "name": "stderr",
     "output_type": "stream",
     "text": [
      "Epoch 49/100: 100%|██████████| 10120/10120 [02:09<00:00, 78.16it/s]\n"
     ]
    },
    {
     "name": "stdout",
     "output_type": "stream",
     "text": [
      "Epoch 49/100, Train Loss: 79.117035, Train Acc: 0.4931, Val Loss: 620.396452, Val Acc: 0.3708\n"
     ]
    },
    {
     "name": "stderr",
     "output_type": "stream",
     "text": [
      "Epoch 50/100: 100%|██████████| 10120/10120 [02:09<00:00, 78.24it/s]\n"
     ]
    },
    {
     "name": "stdout",
     "output_type": "stream",
     "text": [
      "Epoch 50/100, Train Loss: 79.025924, Train Acc: 0.4927, Val Loss: 523.067725, Val Acc: 0.3797\n"
     ]
    },
    {
     "name": "stderr",
     "output_type": "stream",
     "text": [
      "Epoch 51/100: 100%|██████████| 10120/10120 [02:18<00:00, 73.03it/s]\n"
     ]
    },
    {
     "name": "stdout",
     "output_type": "stream",
     "text": [
      "Epoch 51/100, Train Loss: 78.985405, Train Acc: 0.4939, Val Loss: 3865.380273, Val Acc: 0.3641\n"
     ]
    },
    {
     "name": "stderr",
     "output_type": "stream",
     "text": [
      "Epoch 52/100: 100%|██████████| 10120/10120 [02:17<00:00, 73.47it/s]\n"
     ]
    },
    {
     "name": "stdout",
     "output_type": "stream",
     "text": [
      "Epoch 52/100, Train Loss: 78.806321, Train Acc: 0.4949, Val Loss: 12726.911120, Val Acc: 0.3730\n"
     ]
    },
    {
     "name": "stderr",
     "output_type": "stream",
     "text": [
      "Epoch 53/100: 100%|██████████| 10120/10120 [02:11<00:00, 76.95it/s]\n"
     ]
    },
    {
     "name": "stdout",
     "output_type": "stream",
     "text": [
      "Epoch 53/100, Train Loss: 78.702099, Train Acc: 0.4975, Val Loss: 1766.651211, Val Acc: 0.3772\n"
     ]
    },
    {
     "name": "stderr",
     "output_type": "stream",
     "text": [
      "Epoch 54/100: 100%|██████████| 10120/10120 [02:09<00:00, 78.27it/s]\n"
     ]
    },
    {
     "name": "stdout",
     "output_type": "stream",
     "text": [
      "Epoch 54/100, Train Loss: 78.558451, Train Acc: 0.4979, Val Loss: 2913.016761, Val Acc: 0.3780\n"
     ]
    },
    {
     "name": "stderr",
     "output_type": "stream",
     "text": [
      "Epoch 55/100: 100%|██████████| 10120/10120 [02:11<00:00, 77.03it/s]\n"
     ]
    },
    {
     "name": "stdout",
     "output_type": "stream",
     "text": [
      "Epoch 55/100, Train Loss: 78.661932, Train Acc: 0.4965, Val Loss: 693.400286, Val Acc: 0.3826\n"
     ]
    },
    {
     "name": "stderr",
     "output_type": "stream",
     "text": [
      "Epoch 56/100: 100%|██████████| 10120/10120 [02:09<00:00, 78.37it/s]\n"
     ]
    },
    {
     "name": "stdout",
     "output_type": "stream",
     "text": [
      "Epoch 56/100, Train Loss: 78.599263, Train Acc: 0.4985, Val Loss: 397.741461, Val Acc: 0.3829\n"
     ]
    },
    {
     "name": "stderr",
     "output_type": "stream",
     "text": [
      "Epoch 57/100: 100%|██████████| 10120/10120 [02:09<00:00, 78.27it/s]\n"
     ]
    },
    {
     "name": "stdout",
     "output_type": "stream",
     "text": [
      "Epoch 57/100, Train Loss: 78.313727, Train Acc: 0.5006, Val Loss: 435.012282, Val Acc: 0.3801\n"
     ]
    },
    {
     "name": "stderr",
     "output_type": "stream",
     "text": [
      "Epoch 58/100: 100%|██████████| 10120/10120 [02:09<00:00, 78.12it/s]\n"
     ]
    },
    {
     "name": "stdout",
     "output_type": "stream",
     "text": [
      "Epoch 58/100, Train Loss: 78.482483, Train Acc: 0.5002, Val Loss: 305.106006, Val Acc: 0.3842\n"
     ]
    },
    {
     "name": "stderr",
     "output_type": "stream",
     "text": [
      "Epoch 59/100: 100%|██████████| 10120/10120 [02:09<00:00, 78.24it/s]\n"
     ]
    },
    {
     "name": "stdout",
     "output_type": "stream",
     "text": [
      "Epoch 59/100, Train Loss: 78.334861, Train Acc: 0.5003, Val Loss: 320.285772, Val Acc: 0.3813\n"
     ]
    },
    {
     "name": "stderr",
     "output_type": "stream",
     "text": [
      "Epoch 60/100: 100%|██████████| 10120/10120 [02:10<00:00, 77.39it/s]\n"
     ]
    },
    {
     "name": "stdout",
     "output_type": "stream",
     "text": [
      "Epoch 60/100, Train Loss: 78.298624, Train Acc: 0.5016, Val Loss: 510.583700, Val Acc: 0.3854\n"
     ]
    },
    {
     "name": "stderr",
     "output_type": "stream",
     "text": [
      "Epoch 61/100: 100%|██████████| 10120/10120 [02:09<00:00, 78.00it/s]\n"
     ]
    },
    {
     "name": "stdout",
     "output_type": "stream",
     "text": [
      "Epoch 61/100, Train Loss: 78.197636, Train Acc: 0.5011, Val Loss: 329.983271, Val Acc: 0.3830\n"
     ]
    },
    {
     "name": "stderr",
     "output_type": "stream",
     "text": [
      "Epoch 62/100: 100%|██████████| 10120/10120 [02:08<00:00, 78.60it/s]\n"
     ]
    },
    {
     "name": "stdout",
     "output_type": "stream",
     "text": [
      "Epoch 62/100, Train Loss: 78.057923, Train Acc: 0.5034, Val Loss: 986.073665, Val Acc: 0.3843\n"
     ]
    },
    {
     "name": "stderr",
     "output_type": "stream",
     "text": [
      "Epoch 63/100: 100%|██████████| 10120/10120 [02:14<00:00, 75.36it/s]\n"
     ]
    },
    {
     "name": "stdout",
     "output_type": "stream",
     "text": [
      "Epoch 63/100, Train Loss: 78.095981, Train Acc: 0.5028, Val Loss: 851.881383, Val Acc: 0.3809\n"
     ]
    },
    {
     "name": "stderr",
     "output_type": "stream",
     "text": [
      "Epoch 64/100: 100%|██████████| 10120/10120 [02:17<00:00, 73.36it/s]\n"
     ]
    },
    {
     "name": "stdout",
     "output_type": "stream",
     "text": [
      "Epoch 64/100, Train Loss: 77.967735, Train Acc: 0.5046, Val Loss: 551.049980, Val Acc: 0.3839\n"
     ]
    },
    {
     "name": "stderr",
     "output_type": "stream",
     "text": [
      "Epoch 65/100: 100%|██████████| 10120/10120 [02:23<00:00, 70.76it/s]\n"
     ]
    },
    {
     "name": "stdout",
     "output_type": "stream",
     "text": [
      "Epoch 65/100, Train Loss: 78.030416, Train Acc: 0.5049, Val Loss: 591.164376, Val Acc: 0.3801\n"
     ]
    },
    {
     "name": "stderr",
     "output_type": "stream",
     "text": [
      "Epoch 66/100: 100%|██████████| 10120/10120 [02:13<00:00, 75.55it/s]\n"
     ]
    },
    {
     "name": "stdout",
     "output_type": "stream",
     "text": [
      "Epoch 66/100, Train Loss: 77.995780, Train Acc: 0.5043, Val Loss: 1502.969630, Val Acc: 0.3855\n"
     ]
    },
    {
     "name": "stderr",
     "output_type": "stream",
     "text": [
      "Epoch 67/100: 100%|██████████| 10120/10120 [02:09<00:00, 78.23it/s]\n"
     ]
    },
    {
     "name": "stdout",
     "output_type": "stream",
     "text": [
      "Epoch 67/100, Train Loss: 77.897268, Train Acc: 0.5056, Val Loss: 3096.561483, Val Acc: 0.3708\n"
     ]
    },
    {
     "name": "stderr",
     "output_type": "stream",
     "text": [
      "Epoch 68/100: 100%|██████████| 10120/10120 [02:10<00:00, 77.58it/s]\n"
     ]
    },
    {
     "name": "stdout",
     "output_type": "stream",
     "text": [
      "Epoch 68/100, Train Loss: 77.765276, Train Acc: 0.5066, Val Loss: 627.266008, Val Acc: 0.3822\n"
     ]
    },
    {
     "name": "stderr",
     "output_type": "stream",
     "text": [
      "Epoch 69/100: 100%|██████████| 10120/10120 [02:17<00:00, 73.34it/s]\n"
     ]
    },
    {
     "name": "stdout",
     "output_type": "stream",
     "text": [
      "Epoch 69/100, Train Loss: 77.789200, Train Acc: 0.5066, Val Loss: 1380.268952, Val Acc: 0.3874\n"
     ]
    },
    {
     "name": "stderr",
     "output_type": "stream",
     "text": [
      "Epoch 70/100: 100%|██████████| 10120/10120 [02:43<00:00, 61.73it/s]\n"
     ]
    },
    {
     "name": "stdout",
     "output_type": "stream",
     "text": [
      "Epoch 70/100, Train Loss: 77.818219, Train Acc: 0.5075, Val Loss: 814.472418, Val Acc: 0.3854\n"
     ]
    },
    {
     "name": "stderr",
     "output_type": "stream",
     "text": [
      "Epoch 71/100: 100%|██████████| 10120/10120 [02:48<00:00, 59.90it/s]\n"
     ]
    },
    {
     "name": "stdout",
     "output_type": "stream",
     "text": [
      "Epoch 71/100, Train Loss: 77.677094, Train Acc: 0.5079, Val Loss: 1706.945111, Val Acc: 0.3900\n"
     ]
    },
    {
     "name": "stderr",
     "output_type": "stream",
     "text": [
      "Epoch 72/100: 100%|██████████| 10120/10120 [03:07<00:00, 54.11it/s]\n"
     ]
    },
    {
     "name": "stdout",
     "output_type": "stream",
     "text": [
      "Epoch 72/100, Train Loss: 77.636213, Train Acc: 0.5078, Val Loss: 2246.794014, Val Acc: 0.3833\n"
     ]
    },
    {
     "name": "stderr",
     "output_type": "stream",
     "text": [
      "Epoch 73/100: 100%|██████████| 10120/10120 [02:44<00:00, 61.43it/s]\n"
     ]
    },
    {
     "name": "stdout",
     "output_type": "stream",
     "text": [
      "Epoch 73/100, Train Loss: 77.607614, Train Acc: 0.5086, Val Loss: 4500.386723, Val Acc: 0.3778\n"
     ]
    },
    {
     "name": "stderr",
     "output_type": "stream",
     "text": [
      "Epoch 74/100: 100%|██████████| 10120/10120 [02:39<00:00, 63.27it/s]\n"
     ]
    },
    {
     "name": "stdout",
     "output_type": "stream",
     "text": [
      "Epoch 74/100, Train Loss: 77.442296, Train Acc: 0.5102, Val Loss: 445.153062, Val Acc: 0.3910\n"
     ]
    },
    {
     "name": "stderr",
     "output_type": "stream",
     "text": [
      "Epoch 75/100: 100%|██████████| 10120/10120 [02:52<00:00, 58.75it/s]\n"
     ]
    },
    {
     "name": "stdout",
     "output_type": "stream",
     "text": [
      "Epoch 75/100, Train Loss: 77.469697, Train Acc: 0.5098, Val Loss: 343.682845, Val Acc: 0.3971\n"
     ]
    },
    {
     "name": "stderr",
     "output_type": "stream",
     "text": [
      "Epoch 76/100: 100%|██████████| 10120/10120 [03:03<00:00, 55.30it/s]\n"
     ]
    },
    {
     "name": "stdout",
     "output_type": "stream",
     "text": [
      "Epoch 76/100, Train Loss: 77.240211, Train Acc: 0.5100, Val Loss: 8360.237341, Val Acc: 0.3856\n"
     ]
    },
    {
     "name": "stderr",
     "output_type": "stream",
     "text": [
      "Epoch 77/100: 100%|██████████| 10120/10120 [02:41<00:00, 62.55it/s]\n"
     ]
    },
    {
     "name": "stdout",
     "output_type": "stream",
     "text": [
      "Epoch 77/100, Train Loss: 77.338472, Train Acc: 0.5112, Val Loss: 1263.224392, Val Acc: 0.3850\n"
     ]
    },
    {
     "name": "stderr",
     "output_type": "stream",
     "text": [
      "Epoch 78/100: 100%|██████████| 10120/10120 [02:40<00:00, 63.15it/s]\n"
     ]
    },
    {
     "name": "stdout",
     "output_type": "stream",
     "text": [
      "Epoch 78/100, Train Loss: 77.329552, Train Acc: 0.5121, Val Loss: 849.143101, Val Acc: 0.3915\n"
     ]
    },
    {
     "name": "stderr",
     "output_type": "stream",
     "text": [
      "Epoch 79/100: 100%|██████████| 10120/10120 [02:36<00:00, 64.52it/s]\n"
     ]
    },
    {
     "name": "stdout",
     "output_type": "stream",
     "text": [
      "Epoch 79/100, Train Loss: 77.196865, Train Acc: 0.5121, Val Loss: 580.460854, Val Acc: 0.3911\n"
     ]
    },
    {
     "name": "stderr",
     "output_type": "stream",
     "text": [
      "Epoch 80/100: 100%|██████████| 10120/10120 [02:47<00:00, 60.51it/s]\n"
     ]
    },
    {
     "name": "stdout",
     "output_type": "stream",
     "text": [
      "Epoch 80/100, Train Loss: 77.181444, Train Acc: 0.5124, Val Loss: 393.840418, Val Acc: 0.3976\n"
     ]
    },
    {
     "name": "stderr",
     "output_type": "stream",
     "text": [
      "Epoch 81/100: 100%|██████████| 10120/10120 [02:53<00:00, 58.25it/s]\n"
     ]
    },
    {
     "name": "stdout",
     "output_type": "stream",
     "text": [
      "Epoch 81/100, Train Loss: 77.117715, Train Acc: 0.5125, Val Loss: 635.488980, Val Acc: 0.3934\n"
     ]
    },
    {
     "name": "stderr",
     "output_type": "stream",
     "text": [
      "Epoch 82/100: 100%|██████████| 10120/10120 [02:38<00:00, 63.76it/s]\n"
     ]
    },
    {
     "name": "stdout",
     "output_type": "stream",
     "text": [
      "Epoch 82/100, Train Loss: 77.213035, Train Acc: 0.5134, Val Loss: 523.450537, Val Acc: 0.3979\n"
     ]
    },
    {
     "name": "stderr",
     "output_type": "stream",
     "text": [
      "Epoch 83/100: 100%|██████████| 10120/10120 [02:25<00:00, 69.57it/s]\n"
     ]
    },
    {
     "name": "stdout",
     "output_type": "stream",
     "text": [
      "Epoch 83/100, Train Loss: 77.079350, Train Acc: 0.5140, Val Loss: 1190.528712, Val Acc: 0.3956\n"
     ]
    },
    {
     "name": "stderr",
     "output_type": "stream",
     "text": [
      "Epoch 84/100: 100%|██████████| 10120/10120 [02:14<00:00, 75.34it/s]\n"
     ]
    },
    {
     "name": "stdout",
     "output_type": "stream",
     "text": [
      "Epoch 84/100, Train Loss: 77.048700, Train Acc: 0.5139, Val Loss: 559.600728, Val Acc: 0.3889\n"
     ]
    },
    {
     "name": "stderr",
     "output_type": "stream",
     "text": [
      "Epoch 85/100: 100%|██████████| 10120/10120 [02:11<00:00, 77.13it/s]\n"
     ]
    },
    {
     "name": "stdout",
     "output_type": "stream",
     "text": [
      "Epoch 85/100, Train Loss: 77.020154, Train Acc: 0.5140, Val Loss: 2082.283641, Val Acc: 0.3885\n"
     ]
    },
    {
     "name": "stderr",
     "output_type": "stream",
     "text": [
      "Epoch 86/100: 100%|██████████| 10120/10120 [02:11<00:00, 76.69it/s]\n"
     ]
    },
    {
     "name": "stdout",
     "output_type": "stream",
     "text": [
      "Epoch 86/100, Train Loss: 76.947245, Train Acc: 0.5148, Val Loss: 1831.332552, Val Acc: 0.3954\n"
     ]
    },
    {
     "name": "stderr",
     "output_type": "stream",
     "text": [
      "Epoch 87/100: 100%|██████████| 10120/10120 [02:12<00:00, 76.60it/s]\n"
     ]
    },
    {
     "name": "stdout",
     "output_type": "stream",
     "text": [
      "Epoch 87/100, Train Loss: 76.870434, Train Acc: 0.5150, Val Loss: 4693.415442, Val Acc: 0.3916\n"
     ]
    },
    {
     "name": "stderr",
     "output_type": "stream",
     "text": [
      "Epoch 88/100: 100%|██████████| 10120/10120 [02:14<00:00, 75.09it/s]\n"
     ]
    },
    {
     "name": "stdout",
     "output_type": "stream",
     "text": [
      "Epoch 88/100, Train Loss: 76.759752, Train Acc: 0.5163, Val Loss: 1391.465115, Val Acc: 0.3885\n"
     ]
    },
    {
     "name": "stderr",
     "output_type": "stream",
     "text": [
      "Epoch 89/100: 100%|██████████| 10120/10120 [02:18<00:00, 73.01it/s]\n"
     ]
    },
    {
     "name": "stdout",
     "output_type": "stream",
     "text": [
      "Epoch 89/100, Train Loss: 76.818830, Train Acc: 0.5159, Val Loss: 1144.488746, Val Acc: 0.3981\n"
     ]
    },
    {
     "name": "stderr",
     "output_type": "stream",
     "text": [
      "Epoch 90/100: 100%|██████████| 10120/10120 [02:10<00:00, 77.67it/s]\n"
     ]
    },
    {
     "name": "stdout",
     "output_type": "stream",
     "text": [
      "Epoch 90/100, Train Loss: 76.829595, Train Acc: 0.5170, Val Loss: 1483.646958, Val Acc: 0.3916\n"
     ]
    },
    {
     "name": "stderr",
     "output_type": "stream",
     "text": [
      "Epoch 91/100: 100%|██████████| 10120/10120 [02:09<00:00, 77.88it/s]\n"
     ]
    },
    {
     "name": "stdout",
     "output_type": "stream",
     "text": [
      "Epoch 91/100, Train Loss: 76.826776, Train Acc: 0.5152, Val Loss: 3086.536036, Val Acc: 0.3930\n"
     ]
    },
    {
     "name": "stderr",
     "output_type": "stream",
     "text": [
      "Epoch 92/100: 100%|██████████| 10120/10120 [02:08<00:00, 78.57it/s]\n"
     ]
    },
    {
     "name": "stdout",
     "output_type": "stream",
     "text": [
      "Epoch 92/100, Train Loss: 76.785343, Train Acc: 0.5167, Val Loss: 2797.548172, Val Acc: 0.3905\n"
     ]
    },
    {
     "name": "stderr",
     "output_type": "stream",
     "text": [
      "Epoch 93/100: 100%|██████████| 10120/10120 [02:08<00:00, 78.65it/s]\n"
     ]
    },
    {
     "name": "stdout",
     "output_type": "stream",
     "text": [
      "Epoch 93/100, Train Loss: 76.671318, Train Acc: 0.5194, Val Loss: 1437.483850, Val Acc: 0.3918\n"
     ]
    },
    {
     "name": "stderr",
     "output_type": "stream",
     "text": [
      "Epoch 94/100: 100%|██████████| 10120/10120 [02:08<00:00, 78.87it/s]\n"
     ]
    },
    {
     "name": "stdout",
     "output_type": "stream",
     "text": [
      "Epoch 94/100, Train Loss: 76.666178, Train Acc: 0.5173, Val Loss: 7895.488167, Val Acc: 0.3885\n"
     ]
    },
    {
     "name": "stderr",
     "output_type": "stream",
     "text": [
      "Epoch 95/100: 100%|██████████| 10120/10120 [02:26<00:00, 69.04it/s]\n"
     ]
    },
    {
     "name": "stdout",
     "output_type": "stream",
     "text": [
      "Epoch 95/100, Train Loss: 76.697103, Train Acc: 0.5180, Val Loss: 45706.064723, Val Acc: 0.3829\n"
     ]
    },
    {
     "name": "stderr",
     "output_type": "stream",
     "text": [
      "Epoch 96/100: 100%|██████████| 10120/10120 [02:16<00:00, 74.05it/s]\n"
     ]
    },
    {
     "name": "stdout",
     "output_type": "stream",
     "text": [
      "Epoch 96/100, Train Loss: 76.629331, Train Acc: 0.5180, Val Loss: 936.552066, Val Acc: 0.4000\n"
     ]
    },
    {
     "name": "stderr",
     "output_type": "stream",
     "text": [
      "Epoch 97/100: 100%|██████████| 10120/10120 [02:08<00:00, 78.63it/s]\n"
     ]
    },
    {
     "name": "stdout",
     "output_type": "stream",
     "text": [
      "Epoch 97/100, Train Loss: 76.565726, Train Acc: 0.5186, Val Loss: 2262.432683, Val Acc: 0.3947\n"
     ]
    },
    {
     "name": "stderr",
     "output_type": "stream",
     "text": [
      "Epoch 98/100: 100%|██████████| 10120/10120 [02:08<00:00, 78.53it/s]\n"
     ]
    },
    {
     "name": "stdout",
     "output_type": "stream",
     "text": [
      "Epoch 98/100, Train Loss: 76.481091, Train Acc: 0.5200, Val Loss: 1256.388798, Val Acc: 0.4009\n"
     ]
    },
    {
     "name": "stderr",
     "output_type": "stream",
     "text": [
      "Epoch 99/100: 100%|██████████| 10120/10120 [02:21<00:00, 71.53it/s]\n"
     ]
    },
    {
     "name": "stdout",
     "output_type": "stream",
     "text": [
      "Epoch 99/100, Train Loss: 76.477824, Train Acc: 0.5197, Val Loss: 537.151138, Val Acc: 0.3981\n"
     ]
    },
    {
     "name": "stderr",
     "output_type": "stream",
     "text": [
      "Epoch 100/100: 100%|██████████| 10120/10120 [02:25<00:00, 69.50it/s]\n"
     ]
    },
    {
     "name": "stdout",
     "output_type": "stream",
     "text": [
      "Epoch 100/100, Train Loss: 76.517487, Train Acc: 0.5206, Val Loss: 3458.305401, Val Acc: 0.3976\n",
      "Model saved to bncnn_model.pth\n"
     ]
    },
    {
     "data": {
      "image/png": "[encoded data removed]",
      "text/plain": [
       "<Figure size 1000x400 with 1 Axes>"
      ]
     },
     "metadata": {},
     "output_type": "display_data"
    },
    {
     "data": {
      "image/png": "[encoded data removed]",
      "text/plain": [
       "<Figure size 1000x400 with 1 Axes>"
      ]
     },
     "metadata": {},
     "output_type": "display_data"
    },
    {
     "data": {
      "image/png": "[encoded data removed]",
      "text/plain": [
       "<Figure size 1000x400 with 1 Axes>"
      ]
     },
     "metadata": {},
     "output_type": "display_data"
    },
    {
     "data": {
      "image/png": "[encoded data removed]",
      "text/plain": [
       "<Figure size 600x600 with 1 Axes>"
      ]
     },
     "metadata": {},
     "output_type": "display_data"
    },
    {
     "name": "stdout",
     "output_type": "stream",
     "text": [
      "Final Training Loss: 76.517487\n",
      "Final Training Accuracy: 0.5206\n",
      "Final Validation Loss: 3458.305401\n",
      "Final Validation Accuracy: 0.3976\n",
      "Size of final prediction array: 10080\n",
      "Size of final actual array: 10080\n"
     ]
    }
   ],
   "source": [
    "# Define Hyperparameters\n",
    "hyperparams = {\n",
    "    'img_shape': (1, 50, 50),\n",
    "    'chans': [32, 64],\n",
    "    'ksizes': [5, 5, 3],\n",
    "    'bias': False,\n",
    "    'bnorm_d': 2,\n",
    "    'bn_moment': 0.1,\n",
    "    'noise': 0.1,\n",
    "    'activ_fxn': 'ReLU',\n",
    "    'n_units': 9,\n",
    "    'gc_bias': False,\n",
    "    'softplus': False,\n",
    "    'convgc': False,\n",
    "    'centers': None\n",
    "}\n",
    "\n",
    "h5_path = r'C:\\Users\\krmri\\Downloads\\neural_code_data\\neural_code_data\\ganglion_cell_data\\15-10-07\\naturalscene.h5'\n",
    "train_model(h5_path, hyperparams)"
   ]
  },
  {
   "cell_type": "code",
   "execution_count": null,
   "id": "643e27fb-c52a-4631-b48d-7c163ad8c53b",
   "metadata": {},
   "outputs": [],
   "source": []
  }
 ],
 "metadata": {
  "kernelspec": {
   "display_name": "Python 3 (ipykernel)",
   "language": "python",
   "name": "python3"
  },
  "language_info": {
   "codemirror_mode": {
    "name": "ipython",
    "version": 3
   },
   "file_extension": ".py",
   "mimetype": "text/x-python",
   "name": "python",
   "nbconvert_exporter": "python",
   "pygments_lexer": "ipython3",
   "version": "3.12.7"
  }
 },
 "nbformat": 4,
 "nbformat_minor": 5
}
